{
 "metadata": {
  "name": "",
  "signature": "sha256:b9d512a0703e95045081399dd109e61a697c358b141bbab8df1ee8d3f5cf050b"
 },
 "nbformat": 3,
 "nbformat_minor": 0,
 "worksheets": [
  {
   "cells": [
    {
     "cell_type": "markdown",
     "metadata": {},
     "source": [
      "# Building an Recommendation Engine\n",
      "Adopted from PyCon2013 Tutorial - How to Build a Minimal Recommendation Engine by Unata"
     ]
    },
    {
     "cell_type": "markdown",
     "metadata": {},
     "source": [
      "## The Recommendation Problem\n",
      "\n",
      "Recommenders have been around since at least 1992. Today we see different flavours of recommenders, deployed across different verticals: \n",
      "\n",
      "- Amazon\n",
      "- Netflix\n",
      "- Facebook\n",
      "- Last.fm.\n",
      "\n",
      "What exactly do they do?\n",
      "\n",
      "### Definitions from the literature\n",
      "\n",
      "- *In a typical recommender system people provide recommendations as inputs, which\n",
      "the system then aggregates and directs to appropriate recipients.* -- Resnick\n",
      "and Varian, 1997\n",
      "\n",
      "- *Collaborative filtering simply means that people collaborate to help one\n",
      "another perform filtering by recording their reactions to documents they read.*\n",
      "-- Goldberg et al, 1992\n",
      "\n",
      "- *In its most common formulation, the recommendation problem is reduced to the\n",
      "problem of estimating ratings for the items that have not been seen by a\n",
      "user. Intuitively, this estimation is usually based on the ratings given by this\n",
      "user to other items and on some other information [...] Once we can estimate\n",
      "ratings for the yet unrated items, we can recommend to the user the item(s) with\n",
      "the highest estimated rating(s).* -- Adomavicius and Tuzhilin, 2005\n",
      "\n",
      "- *Driven by computer algorithms, recommenders help consumers\n",
      "by selecting products they will probably like and might buy\n",
      "based on their browsing, searches, purchases, and preferences.* -- Konstan and Riedl, 2012\n",
      "\n",
      "## Further Reading:\n",
      "\n",
      "Video Course: https://www.coursera.org/course/recsys\n",
      "\n",
      "ACM RecSys 2014 Videos: https://www.youtube.com/playlist?list=PLaZufLfJumb9A95nS5AmY6G5mqYnwIfZX"
     ]
    },
    {
     "cell_type": "markdown",
     "metadata": {},
     "source": [
      "### Notation\n",
      "\n",
      "- $U$ is the set of users in our domain. Its size is $|U|$.\n",
      "- $I$ is the set of items in our domain. Its size is $|I|$.\n",
      "- $I(u)$ is the set of items that user $u$ has rated.\n",
      "- $-I(u)$ is the complement of $I(u)$ i.e., the set of items not yet seen by user $u$.\n",
      "- $U(i)$ is the set of users that have rated item $i$.\n",
      "- $-U(i)$ is the complement of $U(i)$.\n",
      "- $S(u,i)$ is a function that measures the utility of item $i$ for user $u$."
     ]
    },
    {
     "cell_type": "markdown",
     "metadata": {},
     "source": [
      "### Goal of a recommendation system\n",
      "\n",
      "$\n",
      "\\newcommand{\\argmax}{\\mathop{\\rm argmax}\\nolimits}\n",
      "i^{*} = \\argmax_{i \\in -I(u)} S(u,i), \\forall{u \\in U}\n",
      "$"
     ]
    },
    {
     "cell_type": "markdown",
     "metadata": {},
     "source": [
      "### Problem statement\n",
      "\n",
      "The recommendation problem in its most basic form is quite simple to define:\n",
      "\n",
      "```\n",
      "|-------------------+-----+-----+-----+-----+-----|\n",
      "| user_id, movie_id | m_1 | m_2 | m_3 | m_4 | m_5 |\n",
      "|-------------------+-----+-----+-----+-----+-----|\n",
      "| u_1               | ?   | ?   | 4   | ?   | 1   |\n",
      "|-------------------+-----+-----+-----+-----+-----|\n",
      "| u_2               | 3   | ?   | ?   | 2   | 2   |\n",
      "|-------------------+-----+-----+-----+-----+-----|\n",
      "| u_3               | 3   | ?   | ?   | ?   | ?   |\n",
      "|-------------------+-----+-----+-----+-----+-----|\n",
      "| u_4               | ?   | 1   | 2   | 1   | 1   |\n",
      "|-------------------+-----+-----+-----+-----+-----|\n",
      "| u_5               | ?   | ?   | ?   | ?   | ?   |\n",
      "|-------------------+-----+-----+-----+-----+-----|\n",
      "| u_6               | 2   | ?   | 2   | ?   | ?   |\n",
      "|-------------------+-----+-----+-----+-----+-----|\n",
      "| u_7               | ?   | ?   | ?   | ?   | ?   |\n",
      "|-------------------+-----+-----+-----+-----+-----|\n",
      "| u_8               | 3   | 1   | 5   | ?   | ?   |\n",
      "|-------------------+-----+-----+-----+-----+-----|\n",
      "| u_9               | ?   | ?   | ?   | ?   | 2   |\n",
      "|-------------------+-----+-----+-----+-----+-----|\n",
      "```\n",
      "\n",
      "*Given a partially filled matrix of ratings ($|U|x|I|$), estimate the missing values.*"
     ]
    },
    {
     "cell_type": "markdown",
     "metadata": {},
     "source": [
      "### Dataset\n",
      "MovieLens from GroupLens Research: [grouplens.org](http://www.grouplens.org/)\n",
      "\n",
      "Datasets are available at http://grouplens.org/datasets/movielens/\n",
      "\n",
      "We will be using the MovieLens 1M data set contains 1 million ratings collected from 6000 users\n",
      "on 4000 movies."
     ]
    },
    {
     "cell_type": "code",
     "collapsed": false,
     "input": [
      "import numpy as np\n",
      "import pandas as pd\n",
      "\n",
      "pd.set_option('display.max_rows', 10)"
     ],
     "language": "python",
     "metadata": {},
     "outputs": []
    },
    {
     "cell_type": "code",
     "collapsed": false,
     "input": [
      "users = pd.read_table('../data/movie-lens-1m/users.dat',\n",
      "                      sep='::', header=None, \n",
      "                      names=['user_id', 'gender', 'age', 'occupation', 'zip'], engine='python')\n",
      "\n",
      "ratings = pd.read_table('../data/movie-lens-1m/ratings.dat',\n",
      "                        sep='::', header=None, \n",
      "                        names=['user_id', 'movie_id', 'rating', 'timestamp'], engine='python')\n",
      "\n",
      "movies = pd.read_table('../data/movie-lens-1m/movies.dat',\n",
      "                       sep='::', header=None, \n",
      "                       names=['movie_id', 'title', 'genres'], engine='python')\n",
      "\n",
      "# show how one of them looks\n",
      "ratings.head(5)\n",
      "\n"
     ],
     "language": "python",
     "metadata": {},
     "outputs": []
    },
    {
     "cell_type": "code",
     "collapsed": false,
     "input": [
      "movielens = pd.merge(pd.merge(ratings, users), movies)\n",
      "movielens.head(5)"
     ],
     "language": "python",
     "metadata": {},
     "outputs": []
    },
    {
     "cell_type": "code",
     "collapsed": false,
     "input": [
      "movielens.info()"
     ],
     "language": "python",
     "metadata": {},
     "outputs": []
    },
    {
     "cell_type": "markdown",
     "metadata": {},
     "source": [
      "## Evaluation\n",
      "\n",
      "Before we attempt to express the basic equations for content-based or\n",
      "collaborative filtering we need a basic mechanism to evaluate the performance of\n",
      "our engine."
     ]
    },
    {
     "cell_type": "markdown",
     "metadata": {},
     "source": [
      "### Evaluation: split ratings into train and test sets\n",
      "\n",
      "This subsection will generate training and testing sets for evaluation. You do\n",
      "not need to understand every single line of code, just the general gist:\n",
      "\n",
      "- take a smaller sample from the full 1M dataset for speed reasons;\n",
      "- make sure that we have at least 2 ratings per user in that subset;\n",
      "- split the result into training and testing sets."
     ]
    },
    {
     "cell_type": "code",
     "collapsed": false,
     "input": [
      "# let's work with a smaller subset for speed reasons\n",
      "movielens = movielens.ix[np.random.choice(movielens.index, size=10000, replace=False)]\n",
      "print movielens.shape\n",
      "print movielens.user_id.nunique()\n",
      "print movielens.movie_id.nunique()"
     ],
     "language": "python",
     "metadata": {},
     "outputs": []
    },
    {
     "cell_type": "code",
     "collapsed": false,
     "input": [
      "user_ids_larger_1 = pd.value_counts(movielens.user_id, sort=False) > 1\n",
      "movielens = movielens[user_ids_larger_1[movielens.user_id].values]\n",
      "print movielens.shape\n",
      "np.all(movielens.user_id.value_counts() > 1)"
     ],
     "language": "python",
     "metadata": {},
     "outputs": []
    },
    {
     "cell_type": "code",
     "collapsed": false,
     "input": [
      "def assign_to_set(df):\n",
      "    sampled_ids = np.random.choice(df.index,\n",
      "                                   size=np.int64(np.ceil(df.index.size * 0.2)),\n",
      "                                   replace=False)\n",
      "    df.ix[sampled_ids, 'for_testing'] = True\n",
      "    return df\n",
      "\n",
      "movielens['for_testing'] = False\n",
      "grouped = movielens.groupby('user_id', group_keys=False).apply(assign_to_set)\n",
      "movielens_train = movielens[grouped.for_testing == False]\n",
      "movielens_test = movielens[grouped.for_testing == True]\n",
      "print movielens_train.shape\n",
      "print movielens_test.shape"
     ],
     "language": "python",
     "metadata": {},
     "outputs": []
    },
    {
     "cell_type": "code",
     "collapsed": false,
     "input": [
      "movielens_train.shape"
     ],
     "language": "python",
     "metadata": {},
     "outputs": []
    },
    {
     "cell_type": "code",
     "collapsed": false,
     "input": [
      "movielens_test.shape"
     ],
     "language": "python",
     "metadata": {},
     "outputs": []
    },
    {
     "cell_type": "code",
     "collapsed": false,
     "input": [
      "movielens_train.to_csv('../data/movie-lens-1m/movielens_train.csv')\n",
      "movielens_test.to_csv('../data/movie-lens-1m/movielens_test.csv')"
     ],
     "language": "python",
     "metadata": {},
     "outputs": []
    },
    {
     "cell_type": "markdown",
     "metadata": {},
     "source": [
      "### Evaluation: performance criterion\n",
      "\n",
      "- RMSE: $\\sqrt{\\frac{\\sum(\\hat y - y)^2}{n}}$"
     ]
    },
    {
     "cell_type": "markdown",
     "metadata": {},
     "source": [
      "### Evaluation: the 'evaluate' method"
     ]
    },
    {
     "cell_type": "code",
     "collapsed": false,
     "input": [
      "def compute_rmse(y_pred, y_true):\n",
      "    \"\"\" Compute Root Mean Squared Error. \"\"\"\n",
      "    return np.sqrt(np.mean(np.power(y_pred - y_true, 2)))"
     ],
     "language": "python",
     "metadata": {},
     "outputs": []
    },
    {
     "cell_type": "code",
     "collapsed": false,
     "input": [
      "def evaluate(estimate_f):\n",
      "    \"\"\" RMSE-based predictive performance evaluation with pandas. \"\"\"\n",
      "    ids_to_estimate = zip(movielens_test.user_id, movielens_test.movie_id)\n",
      "    estimated = np.array([estimate_f(u,i) for (u,i) in ids_to_estimate])\n",
      "    real = movielens_test.rating.values\n",
      "    return compute_rmse(estimated, real)"
     ],
     "language": "python",
     "metadata": {},
     "outputs": []
    },
    {
     "cell_type": "code",
     "collapsed": false,
     "input": [
      "def estimate0(user_id, item_id):\n",
      "    \"\"\" The Answer is always 3 (c is the correct answer). \"\"\"\n",
      "    return 3.0\n",
      "\n",
      "print 'RMSE for estimate1: %s' % evaluate(estimate0)"
     ],
     "language": "python",
     "metadata": {},
     "outputs": []
    },
    {
     "cell_type": "markdown",
     "metadata": {},
     "source": [
      "## Minimal reco engine v1.0: simple mean ratings"
     ]
    },
    {
     "cell_type": "markdown",
     "metadata": {},
     "source": [
      "### Content-based filtering using mean ratings\n",
      "\n",
      "With this table-like representation of the ratings data, a basic content-based\n",
      "filter becomes a one-liner function."
     ]
    },
    {
     "cell_type": "code",
     "collapsed": false,
     "input": [
      "movielens_train.head()"
     ],
     "language": "python",
     "metadata": {},
     "outputs": []
    },
    {
     "cell_type": "code",
     "collapsed": false,
     "input": [
      "def estimate1(user_id, item_id):\n",
      "    \"\"\" Simple content-filtering based on mean ratings. \"\"\"\n",
      "    return None\n",
      "\n",
      "print 'RMSE for estimate1: %s' % evaluate(estimate1)"
     ],
     "language": "python",
     "metadata": {},
     "outputs": []
    },
    {
     "cell_type": "markdown",
     "metadata": {},
     "source": [
      "### Collaborative-based filtering using mean ratings"
     ]
    },
    {
     "cell_type": "code",
     "collapsed": false,
     "input": [
      "def estimate2(user_id, movie_id):\n",
      "    \"\"\" Simple collaborative filter based on mean ratings. \"\"\"\n",
      "    return None\n",
      "\n",
      "print 'RMSE for estimate2: %s' % evaluate(estimate2)"
     ],
     "language": "python",
     "metadata": {},
     "outputs": []
    },
    {
     "cell_type": "code",
     "collapsed": false,
     "input": [
      "print movielens_train.groupby('gender')['rating'].mean()"
     ],
     "language": "python",
     "metadata": {},
     "outputs": []
    },
    {
     "cell_type": "code",
     "collapsed": false,
     "input": [
      "print movielens_train.groupby(['gender', 'age'])['rating'].mean()"
     ],
     "language": "python",
     "metadata": {},
     "outputs": []
    },
    {
     "cell_type": "code",
     "collapsed": false,
     "input": [
      "by_gender_title = movielens_train.groupby(['gender', 'title'])['rating'].mean()\n",
      "print by_gender_title"
     ],
     "language": "python",
     "metadata": {},
     "outputs": []
    },
    {
     "cell_type": "code",
     "collapsed": false,
     "input": [
      "by_gender_title = movielens_train.groupby(['gender', 'title'])['rating'].mean().unstack('gender')\n",
      "by_gender_title.head(10)"
     ],
     "language": "python",
     "metadata": {},
     "outputs": []
    },
    {
     "cell_type": "code",
     "collapsed": false,
     "input": [
      "by_gender_title = movielens_train.pivot_table(values='rating', index='title', columns='gender')\n",
      "by_gender_title.head(10)"
     ],
     "language": "python",
     "metadata": {},
     "outputs": []
    },
    {
     "cell_type": "markdown",
     "metadata": {},
     "source": [
      "## Minimal reco engine v1.1: implicit sim functions"
     ]
    },
    {
     "cell_type": "markdown",
     "metadata": {},
     "source": [
      "We're going to need a user index from the users portion of the dataset. This will allow us to retrieve information given a specific user_id in a more convenient way:"
     ]
    },
    {
     "cell_type": "code",
     "collapsed": false,
     "input": [
      "user_info = users.set_index('user_id')\n",
      "user_info.head(5)"
     ],
     "language": "python",
     "metadata": {},
     "outputs": []
    },
    {
     "cell_type": "markdown",
     "metadata": {},
     "source": [
      "With this in hand, we can now ask what the gender of a particular user_id is like so:"
     ]
    },
    {
     "cell_type": "code",
     "collapsed": false,
     "input": [
      "user_id = 3\n",
      "user_info.ix[user_id, 'gender']"
     ],
     "language": "python",
     "metadata": {},
     "outputs": []
    },
    {
     "cell_type": "markdown",
     "metadata": {},
     "source": [
      "### Collaborative-based filtering by Groups\n",
      "\n",
      "Using the pandas aggregation framework we will build a collaborative filter that estimates ratings using an implicit `sim(u,u')` function to compare different users."
     ]
    },
    {
     "cell_type": "code",
     "collapsed": false,
     "input": [
      "def estimate3(user_id, movie_id):\n",
      "    \"\"\" Collaborative filtering using an implicit sim(u,u'). \"\"\"\n",
      "    ratings_by_others = movielens_train[movielens_train.movie_id == movie_id]\n",
      "    if ratings_by_others.empty: \n",
      "        return 3.0\n",
      "    means_by_gender = ratings_by_others.pivot_table('rating', index='movie_id', columns='gender')\n",
      "    user_gender = user_info.ix[user_id, 'gender']\n",
      "    if user_gender in means_by_gender.columns: \n",
      "        return means_by_gender.ix[movie_id, user_gender]\n",
      "    else:\n",
      "        return means_by_gender.ix[movie_id].mean()\n",
      "\n",
      "print 'RMSE for reco3: %s' % evaluate(estimate3)"
     ],
     "language": "python",
     "metadata": {},
     "outputs": []
    },
    {
     "cell_type": "markdown",
     "metadata": {},
     "source": [
      "At this point it seems worthwhile to write a `learn` that pre-computes whatever datastructures we need at estimation time."
     ]
    },
    {
     "cell_type": "code",
     "collapsed": false,
     "input": [
      "class Reco3:\n",
      "    \"\"\" Collaborative filtering using an implicit sim(u,u'). \"\"\"\n",
      "\n",
      "    def learn(self):\n",
      "        \"\"\" Prepare datastructures for estimation. \"\"\"\n",
      "        self.means_by_gender = movielens_train.pivot_table('rating', index='movie_id', columns='gender')\n",
      "\n",
      "    def estimate(self, user_id, movie_id):\n",
      "        \"\"\" Mean ratings by other users of the same gender. \"\"\"\n",
      "        if movie_id not in self.means_by_gender.index: \n",
      "            return 3.0\n",
      "        user_gender = user_info.ix[user_id, 'gender']\n",
      "        if ~np.isnan(self.means_by_gender.ix[movie_id, user_gender]):\n",
      "            return self.means_by_gender.ix[movie_id, user_gender]\n",
      "        else:\n",
      "            return self.means_by_gender.ix[movie_id].mean()\n",
      "\n",
      "reco = Reco3()\n",
      "reco.learn()\n",
      "print 'RMSE for reco3: %s' % evaluate(reco.estimate)"
     ],
     "language": "python",
     "metadata": {},
     "outputs": []
    },
    {
     "cell_type": "code",
     "collapsed": false,
     "input": [
      "class Reco4:\n",
      "    \"\"\" Collaborative filtering using an implicit sim(u,u'). \"\"\"\n",
      "\n",
      "    def learn(self):\n",
      "        \"\"\" Prepare datastructures for estimation. \"\"\"\n",
      "        self.means_by_age = movielens_train.pivot_table('rating', index='movie_id', columns='age')\n",
      "\n",
      "    def estimate(self, user_id, movie_id):\n",
      "        \"\"\" Mean ratings by other users of the same age. \"\"\"\n",
      "        if movie_id not in self.means_by_age.index: return 3.0\n",
      "        user_age = user_info.ix[user_id, 'age']\n",
      "        if ~np.isnan(self.means_by_age.ix[movie_id, user_age]):\n",
      "            return self.means_by_age.ix[movie_id, user_age]\n",
      "        else:\n",
      "            return self.means_by_age.ix[movie_id].mean()\n",
      "\n",
      "reco = Reco4()\n",
      "reco.learn()\n",
      "print 'RMSE for reco4: %s' % evaluate(reco.estimate)"
     ],
     "language": "python",
     "metadata": {},
     "outputs": []
    },
    {
     "cell_type": "code",
     "collapsed": false,
     "input": [
      "movielens.pivot_table('rating', index='movie_id', columns='user_id')"
     ],
     "language": "python",
     "metadata": {},
     "outputs": []
    },
    {
     "cell_type": "markdown",
     "metadata": {},
     "source": [
      "### A few similarity functions\n",
      "\n",
      "These were all written to operate on two pandas Series, each one representing the rating history of two different users. You can also apply them to any two feature vectors that describe users or items. In all cases, the higher the return value, the more similar two Series are. You might need to add checks for edge cases, such as divisions by zero, etc.\n",
      "\n",
      "- Euclidean 'similarity'\n",
      "\n",
      "$$ sim(x,y) = \\frac{1}{1 + \\sqrt{\\sum (x - y)^2}}$$"
     ]
    },
    {
     "cell_type": "markdown",
     "metadata": {},
     "source": [
      "- Cosine similarity\n",
      "\n",
      "$$ sim(x,y) = \\frac{(x . y)}{\\sqrt{(x . x) (y . y)}} $$"
     ]
    },
    {
     "cell_type": "markdown",
     "metadata": {},
     "source": [
      "- Pearson correlation\n",
      "\n",
      "$$ sim(x,y) = \\frac{(x - \\bar x).(y - \\bar y)}{\\sqrt{(x - \\bar x).(x - \\bar x) * (y - \\bar y)(y - \\bar y)}} $$"
     ]
    },
    {
     "cell_type": "code",
     "collapsed": false,
     "input": [
      "def euclidean(s1, s2):\n",
      "    \"\"\"Take two pd.Series objects and return their euclidean 'similarity'.\"\"\"\n",
      "    diff = s1 - s2\n",
      "    return 1 / (1 + np.sqrt(np.sum(diff ** 2)))"
     ],
     "language": "python",
     "metadata": {},
     "outputs": []
    },
    {
     "cell_type": "code",
     "collapsed": false,
     "input": [
      "# Test Euclidean Distance function\n",
      "euclidean(np.array([1, 2, 3]), np.array([1, 2, 5]))"
     ],
     "language": "python",
     "metadata": {},
     "outputs": []
    },
    {
     "cell_type": "code",
     "collapsed": false,
     "input": [
      "def cosine(s1, s2):\n",
      "    \"\"\"Take two pd.Series objects and return their cosine similarity.\"\"\"\n",
      "    return np.sum(s1 * s2) / np.sqrt(np.sum(s1 ** 2) * np.sum(s2 ** 2))"
     ],
     "language": "python",
     "metadata": {},
     "outputs": []
    },
    {
     "cell_type": "code",
     "collapsed": false,
     "input": [
      "def pearson(s1, s2):\n",
      "    \"\"\"Take two pd.Series objects and return a pearson correlation.\"\"\"\n",
      "    s1_c = s1 - s1.mean()\n",
      "    s2_c = s2 - s2.mean()\n",
      "    return np.sum(s1_c * s2_c) / np.sqrt(np.sum(s1_c ** 2) * np.sum(s2_c ** 2))"
     ],
     "language": "python",
     "metadata": {},
     "outputs": []
    },
    {
     "cell_type": "code",
     "collapsed": false,
     "input": [
      "user_profiles = movielens.pivot_table('rating', index='movie_id', columns='user_id')"
     ],
     "language": "python",
     "metadata": {},
     "outputs": []
    },
    {
     "cell_type": "code",
     "collapsed": false,
     "input": [
      "user_profiles"
     ],
     "language": "python",
     "metadata": {},
     "outputs": []
    },
    {
     "cell_type": "code",
     "collapsed": false,
     "input": [
      "class Reco5:\n",
      "    \"\"\" Collaborative filtering using a custom sim(u,u'). \"\"\"\n",
      "\n",
      "    def learn(self):\n",
      "        \"\"\" Prepare datastructures for estimation. \"\"\"\n",
      "        self.all_user_profiles = movielens.pivot_table('rating', index='movie_id', columns='user_id')\n",
      "\n",
      "    def estimate(self, user_id, movie_id):\n",
      "        \"\"\" Ratings weighted by correlation similarity. \"\"\"\n",
      "        ratings_by_others = movielens_train[movielens_train.movie_id == movie_id]\n",
      "        if ratings_by_others.empty: \n",
      "            return 3.0\n",
      "        ratings_by_others.set_index('user_id', inplace=True)\n",
      "        their_ids = ratings_by_others.index\n",
      "        their_ratings = ratings_by_others.rating\n",
      "        their_profiles = self.all_user_profiles[their_ids]\n",
      "        user_profile = self.all_user_profiles[user_id]\n",
      "        sims = their_profiles.apply(lambda profile: pearson(profile, user_profile), axis=0)\n",
      "        ratings_sims = pd.DataFrame({'sim': sims, 'rating': their_ratings})\n",
      "        ratings_sims = ratings_sims[ ratings_sims.sim > 0]\n",
      "        if ratings_sims.empty:\n",
      "            return their_ratings.mean()\n",
      "        else:\n",
      "            return np.average(ratings_sims.rating, weights=ratings_sims.sim)"
     ],
     "language": "python",
     "metadata": {},
     "outputs": []
    },
    {
     "cell_type": "code",
     "collapsed": false,
     "input": [
      "reco = Reco5()\n",
      "reco.learn()\n",
      "print 'RMSE for reco5: %s' % evaluate(reco.estimate)"
     ],
     "language": "python",
     "metadata": {},
     "outputs": []
    },
    {
     "cell_type": "code",
     "collapsed": false,
     "input": [],
     "language": "python",
     "metadata": {},
     "outputs": []
    }
   ],
   "metadata": {}
  }
 ]
}